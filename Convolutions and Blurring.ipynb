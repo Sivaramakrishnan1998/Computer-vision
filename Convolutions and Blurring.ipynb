{
 "cells": [
  {
   "cell_type": "code",
   "execution_count": null,
   "metadata": {},
   "outputs": [],
   "source": [
    "# blurring example : why do we do blurring ? to filter out unwanted low quality values\n",
    "\n",
    "import cv2\n",
    "import numpy as np\n",
    "\n",
    "img = cv2.imread('./images/elephant.jpg')\n",
    "\n",
    "#output img = img * kernel_matrix\n",
    "# filter2D(img src, depth, kernel)   if depth < 0 then the output img will have same depth has input image\n",
    "\n",
    "kernel_3x3 = np.ones((3,3), np.uint8)/ 9\n",
    "blurred_img = cv2.filter2D(img, -1, kernel_3x3)\n",
    "cv2.imshow(\"blur 3x3\", blurred_img)\n",
    "cv2.waitKey(0)\n",
    "\n",
    "kernel_9x9= np.ones((9,9), np.uint8)/ 81\n",
    "blurred_img_9x9 = cv2.filter2D(img, -1, kernel_9x9) \n",
    "cv2.imshow(\"blue 9x9\", blurred_img_9x9)\n",
    "cv2.waitKey(0)\n",
    "\n",
    "cv2.destroyAllWindows()"
   ]
  },
  {
   "cell_type": "code",
   "execution_count": null,
   "metadata": {},
   "outputs": [],
   "source": [
    "\n",
    "# different types of blurring \n",
    "\n",
    "import numpy as np\n",
    "import cv2\n",
    "\n",
    "img = cv2.imread('./images/elephant.jpg')\n",
    "\n",
    "# equivalent blurring effect\n",
    "\n",
    "blur_ = cv2.blur(img,(11,11))\n",
    "cv2.imshow(\"equivalent blur\", blur_)\n",
    "cv2.waitKey(0)\n",
    "\n",
    "# gaussian blurring effect\n",
    "# GaussianBLue\n",
    "gaussian_blur= cv2.GaussianBlur(img, (7,7), 0)\n",
    "cv2.imshow('Gaussian blur', Gaussian)\n",
    "cv2.waitKey(0)\n",
    "\n",
    "median_blur=  cv2.medianBlur(img, 5)\n",
    "cv2.imshow('median_blur', median_blur)\n",
    "cv2.waitKey(0)\n",
    "\n",
    "bilateral = cv2.bilateralFilter(img, 9, 75, 75)\n",
    "cv2.imshow('bilateral blurring', bilateral)\n",
    "cv2.waitKey(0)\n",
    "\n",
    "cv2.destroyAllWindows()\n"
   ]
  },
  {
   "cell_type": "code",
   "execution_count": 3,
   "metadata": {},
   "outputs": [],
   "source": [
    "import cv2\n",
    "import numpy as np\n",
    "\n",
    "# image denoising \n",
    "# parameters {\n",
    "#     image,\n",
    "#     filter_strength, value between 5-10\n",
    "#     filter_strength for color components,\n",
    "#     template_size, # must be odd 7\n",
    "#     window_size# must be odd 21\n",
    "# }\n",
    "\n",
    "img = cv2.imread('./images/elephant.jpg')\n",
    "\n",
    "image_denoiser = cv2.fastNlMeansDenoisingColored(img, None, 6, 6, 7, 21)\n",
    "\n",
    "cv2.imshow('denoised image', image_denoiser)\n",
    "cv2.waitKey(0)\n",
    "\n",
    "cv2.destroyAllWindows()\n",
    "\n"
   ]
  }
 ],
 "metadata": {
  "kernelspec": {
   "display_name": "Python 3",
   "language": "python",
   "name": "python3"
  },
  "language_info": {
   "codemirror_mode": {
    "name": "ipython",
    "version": 3
   },
   "file_extension": ".py",
   "mimetype": "text/x-python",
   "name": "python",
   "nbconvert_exporter": "python",
   "pygments_lexer": "ipython3",
   "version": "3.6.8"
  }
 },
 "nbformat": 4,
 "nbformat_minor": 2
}
