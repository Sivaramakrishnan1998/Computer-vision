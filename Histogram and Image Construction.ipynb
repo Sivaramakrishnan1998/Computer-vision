{
 "cells": [
  {
   "cell_type": "code",
   "execution_count": null,
   "metadata": {},
   "outputs": [],
   "source": [
    "#histogram demonstration\n",
    "#histogram is plotting different types and number of different types in available data\n",
    "#example visit http://lrrpublic.cli.det.nsw.edu.au/lrrSecure/Sites/LRRView/14118/graphics/dot_plot_eg.gif\n",
    "import cv2\n",
    "import numpy as np\n",
    "from matplotlib import pyplot as plt\n",
    "\n",
    "img = cv2.imread('./images/input.jpg')\n",
    "\n",
    "histogram = cv2.calcHist([img], [0], None, [256], [0, 256]) # (image_source, color{b,g,r}{0,1,2}, Mask for\n",
    "# total or partial image, )\n",
    "\n",
    "plt.hist(img.ravel(), 256, [0,256]); plt.show()  # ravel converts 2d arr to 1d arr\n",
    "\n",
    "color = ('b', 'g', 'r')\n",
    "\n",
    "for i, col in enumerate(color):\n",
    "    histogram2  = cv2.calcHist([img], [i], None, [256], [0,256])\n",
    "    plt.plot(histogram2, color=col)\n",
    "    plt.xlim([0,256])\n",
    "    \n",
    "plt.show()\n",
    "    \n",
    "    "
   ]
  },
  {
   "cell_type": "code",
   "execution_count": null,
   "metadata": {},
   "outputs": [],
   "source": [
    "#histogram demonstration\n",
    "#histogram is plotting different types and number of different types in available data\n",
    "#example visit http://lrrpublic.cli.det.nsw.edu.au/lrrSecure/Sites/LRRView/14118/graphics/dot_plot_eg.gif\n",
    "import cv2\n",
    "import numpy as np\n",
    "from matplotlib import pyplot as plt\n",
    "\n",
    "img = cv2.imread('./images/tobago.jpg')\n",
    "\n",
    "histogram = cv2.calcHist([img], [0], None, [256], [0, 256]) # (image_source, color{b,g,r}{0,1,2}, Mask for\n",
    "# total or partial image, )\n",
    "\n",
    "plt.hist(img.ravel(), 256, [0,256]); plt.show()  # ravel converts 2d arr to 1d arr\n",
    "\n",
    "color = ('b', 'g', 'r')\n",
    "\n",
    "for i, col in enumerate(color):\n",
    "    histogram2  = cv2.calcHist([img], [i], None, [256], [0,256])\n",
    "    plt.plot(histogram2, color=col)\n",
    "    plt.xlim([0,256])\n",
    "    \n",
    "plt.show()\n",
    "    \n",
    "    "
   ]
  },
  {
   "cell_type": "code",
   "execution_count": null,
   "metadata": {},
   "outputs": [],
   "source": [
    "#basic image construction\n",
    "#construct black dubba\n",
    "\n",
    "import cv2\n",
    "import numpy as np\n",
    "\n",
    "img = np.zeros((512, 512, 3), np.uint8)\n",
    "\n",
    "#draw a line\n",
    "cv2.line(img, (0,0), (511,511),(255, 127, 0), 5) # line(img source, starting pos, ending pos, {b, g, r}, thickness)\n",
    "cv2.imshow(\"blue line\", img)\n",
    "cv2.waitKey(0)\n",
    "cv2.destroyAllWindows()\n"
   ]
  },
  {
   "cell_type": "code",
   "execution_count": null,
   "metadata": {},
   "outputs": [],
   "source": [
    "#construct an rectangle\n",
    "import cv2\n",
    "import numpy as np\n",
    "img = np.zeros((512,512,3), np.uint8)\n",
    "cv2.rectangle(img, (100, 100), (300,250), (127,50,127), 0) # rectangle(img src, start pos, end pos, color, thickness)\n",
    "cv2.imshow(\"rectangle\", img)\n",
    "cv2.waitKey(0)\n",
    "cv2.destroyAllWindows()\n",
    "\n",
    "#construct an circle\n",
    "#circle(img src, center, radius, color, fill)\n",
    "\n",
    "cv2.circle(img, (350,400), 100, (123,43,21), -1)\n",
    "cv2.imshow(\"circle\", img)\n",
    "cv2.waitKey(0)\n",
    "cv2.destroyAllWindows()"
   ]
  },
  {
   "cell_type": "code",
   "execution_count": null,
   "metadata": {},
   "outputs": [],
   "source": [
    "# #construct an circle\n",
    "# #circle(img src, center, radius, color, fill)\n",
    "\n",
    "# cv2.circle(img, (350,400), 15, (123,43,21), 0)\n",
    "# cv2.waitkey(0)\n",
    "# cv2.destroyAllWindows()"
   ]
  },
  {
   "cell_type": "code",
   "execution_count": null,
   "metadata": {},
   "outputs": [],
   "source": [
    "# constructing polygon\n",
    "\n",
    "import cv2\n",
    "import numpy as np\n",
    "\n",
    "img = np.zeros((512,512,3), np.uint8)\n",
    "\n",
    "\n",
    "pts = np.array([[10,50], [400,50], [90,200], [50,500]], np.int32)\n",
    "\n",
    "pts = pts.reshape((-1, 1, 2))\n",
    "\n",
    "cv2.polylines(img, [pts], True, (0,0,255), 200)# polylines(img_src, points, color, thickness)\n",
    "cv2.imshow(\"polygon\", img)\n",
    "cv2.waitKey(0)\n",
    "cv2.destroyAllWindows()"
   ]
  },
  {
   "cell_type": "code",
   "execution_count": null,
   "metadata": {},
   "outputs": [],
   "source": [
    "# input texts into the picture \n",
    "import numpy as np\n",
    "import cv2\n",
    "\n",
    "img = np.zeros((2024, 2024, 3), np.uint8)\n",
    "\n",
    "cv2.putText(img, \"hello sirakr!! the world is yours\", (39, 290), cv2.FONT_HERSHEY_COMPLEX, 2, (100,170,0), 1)\n",
    "\n",
    "# putText(img, \"text here\", text ending position, cv2 fonts, color, thickness)\n",
    "\n",
    "cv2.imshow(\"Message here\", img)\n",
    "cv2.waitKey(0)\n",
    "cv2.destroyAllWindows()"
   ]
  },
  {
   "cell_type": "code",
   "execution_count": null,
   "metadata": {},
   "outputs": [],
   "source": []
  }
 ],
 "metadata": {
  "kernelspec": {
   "display_name": "Python 3",
   "language": "python",
   "name": "python3"
  },
  "language_info": {
   "codemirror_mode": {
    "name": "ipython",
    "version": 3
   },
   "file_extension": ".py",
   "mimetype": "text/x-python",
   "name": "python",
   "nbconvert_exporter": "python",
   "pygments_lexer": "ipython3",
   "version": "3.6.8"
  }
 },
 "nbformat": 4,
 "nbformat_minor": 2
}
