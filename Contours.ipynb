{
 "cells": [
  {
   "cell_type": "code",
   "execution_count": null,
   "metadata": {},
   "outputs": [],
   "source": []
  },
  {
   "cell_type": "code",
   "execution_count": 2,
   "metadata": {},
   "outputs": [
    {
     "name": "stdout",
     "output_type": "stream",
     "text": [
      "[array([[[368, 157]],\n",
      "\n",
      "       [[367, 158]],\n",
      "\n",
      "       [[366, 159]],\n",
      "\n",
      "       ...,\n",
      "\n",
      "       [[371, 157]],\n",
      "\n",
      "       [[370, 157]],\n",
      "\n",
      "       [[369, 157]]], dtype=int32), array([[[520,  63]],\n",
      "\n",
      "       [[519,  64]],\n",
      "\n",
      "       [[518,  65]],\n",
      "\n",
      "       ...,\n",
      "\n",
      "       [[523,  63]],\n",
      "\n",
      "       [[522,  63]],\n",
      "\n",
      "       [[521,  63]]], dtype=int32), array([[[16, 19]],\n",
      "\n",
      "       [[15, 20]],\n",
      "\n",
      "       [[15, 21]],\n",
      "\n",
      "       ...,\n",
      "\n",
      "       [[19, 19]],\n",
      "\n",
      "       [[18, 19]],\n",
      "\n",
      "       [[17, 19]]], dtype=int32)]\n"
     ]
    }
   ],
   "source": [
    "# contours detect complete shapes from an img, there are of many types\n",
    "# external type: detects only external shapes\n",
    "# list type:detect inside shape also\n",
    "\n",
    "import cv2\n",
    "import numpy as np\n",
    "\n",
    "img = cv2.imread('./images/shapes.jpg')\n",
    "cv2.imshow(\"original\", img)\n",
    "cv2.waitKey(0)\n",
    "\n",
    "# contours only accept gray img i.e) 2d\n",
    "gray = cv2.cvtColor(img, cv2.COLOR_BGR2GRAY)\n",
    "\n",
    "# find canny edges \n",
    "\n",
    "canny_edges = cv2.Canny(gray, 30, 200)\n",
    "cv2.imshow('Canny Edges', canny_edges)\n",
    "cv2.waitKey(0)\n",
    "\n",
    "img, contours, hierarchy = cv2.findContours(canny_edges.copy(), cv2.RETR_EXTERNAL, cv2.CHAIN_APPROX_NONE)\n",
    "\n",
    "cv2.imshow('canny edges after contouring', canny_edges)\n",
    "\n",
    "cv2.waitKey(0)\n",
    "\n",
    "img2 = cv2.imread('./images/shapes.jpg')\n",
    "cv2.imshow(\"original\", img2)\n",
    "cv2.waitKey(0)\n",
    "\n",
    "\n",
    "print (contours)# the diagram points will be listed\n",
    "\n",
    "\n",
    "img2 = cv2.imread('./images/shapes.jpg')\n",
    "cv2.imshow(\"original\", img2)\n",
    "cv2.waitKey(0)\n",
    "\n",
    "\n",
    "cv2.drawContours(img2, contours, -1, (255,0,0))\n",
    "cv2.imshow('contours', img)\n",
    "cv2.waitKey(0)\n",
    "\n",
    "cv2.destroyAllWindows()\n"
   ]
  }
 ],
 "metadata": {
  "kernelspec": {
   "display_name": "Python 3",
   "language": "python",
   "name": "python3"
  },
  "language_info": {
   "codemirror_mode": {
    "name": "ipython",
    "version": 3
   },
   "file_extension": ".py",
   "mimetype": "text/x-python",
   "name": "python",
   "nbconvert_exporter": "python",
   "pygments_lexer": "ipython3",
   "version": "3.6.8"
  }
 },
 "nbformat": 4,
 "nbformat_minor": 2
}
