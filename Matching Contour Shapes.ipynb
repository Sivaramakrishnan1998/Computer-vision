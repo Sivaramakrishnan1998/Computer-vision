{
 "cells": [
  {
   "cell_type": "code",
   "execution_count": 8,
   "metadata": {},
   "outputs": [
    {
     "name": "stdout",
     "output_type": "stream",
     "text": [
      "0.16818605122199104\n",
      "0.1994691025615889\n",
      "0.18949760627309686\n",
      "0.11101058276281539\n"
     ]
    }
   ],
   "source": [
    "import cv2\n",
    "import numpy as np\n",
    "\n",
    "# given shape \n",
    "inp_shape = cv2.imread('./images/4star.jpg',0)\n",
    "cv2.imshow(\"input shape\", inp_shape)\n",
    "cv2.waitKey()\n",
    "\n",
    "# load the target img which we are trying to match \n",
    "# from input template image\n",
    "\n",
    "target = cv2.imread('./images/shapestomatch.jpg')\n",
    "target_gray = cv2.cvtColor(target, cv2.COLOR_BGR2GRAY)\n",
    "\n",
    "# finding threshold for image simplification\n",
    "ret, threshold1 = cv2.threshold(inp_shape, 127, 255, 0)\n",
    "ret, threshold2 = cv2.threshold(target_gray, 127, 255, 0)\n",
    "\n",
    "# Find contours in inp_shape template\n",
    "_, contours, hierarchy = cv2.findContours(threshold1, cv2.RETR_CCOMP, cv2.CHAIN_APPROX_SIMPLE)\n",
    "\n",
    "# sorting the contours to select the shape that needs to be matched\n",
    "sorted_contours = sorted(contours, key= cv2.contourArea, reverse = True)\n",
    "\n",
    "#extracting second largest contour\n",
    "template_contour = sorted_contours[1]\n",
    "\n",
    "# Find contours in target img\n",
    "_, contours, hierarchy = cv2.findContours(threshold2, cv2.RETR_CCOMP, cv2.CHAIN_APPROX_SIMPLE)\n",
    "\n",
    "for cnt in contours:\n",
    "    match = cv2.matchShapes(template_contour, cnt, 1, 0.0)\n",
    "    print (match) # value\n",
    "    \n",
    "    if match < .15:\n",
    "        closest_contour = cnt\n",
    "    else:\n",
    "        closest_contour = []\n",
    "        \n",
    "cv2.drawContours(target,  closest_contour, -1, (0, 255,0), 3)\n",
    "cv2.imshow('Output', target)\n",
    "cv2.waitKey(0)\n",
    "cv2.destroyAllWindows()"
   ]
  },
  {
   "cell_type": "code",
   "execution_count": null,
   "metadata": {},
   "outputs": [],
   "source": [
    "# difference between contours hierarchy\n",
    "\n",
    "# cv2.RETR_LIST => all contours no relationship\n",
    "# cv2.RETR_EXTERNAL => all external contours\n",
    "# cv2.RETR_CCOMP => all degree 2 contours i.e) internal contours\n",
    "#   {\n",
    "#     1{\n",
    "#         2\n",
    "#     }\n",
    "# }\n",
    "# cv2.RETR_TREE => all contours with relationship"
   ]
  },
  {
   "cell_type": "code",
   "execution_count": null,
   "metadata": {},
   "outputs": [],
   "source": []
  }
 ],
 "metadata": {
  "kernelspec": {
   "display_name": "Python 3",
   "language": "python",
   "name": "python3"
  },
  "language_info": {
   "codemirror_mode": {
    "name": "ipython",
    "version": 3
   },
   "file_extension": ".py",
   "mimetype": "text/x-python",
   "name": "python",
   "nbconvert_exporter": "python",
   "pygments_lexer": "ipython3",
   "version": "3.6.8"
  }
 },
 "nbformat": 4,
 "nbformat_minor": 2
}
