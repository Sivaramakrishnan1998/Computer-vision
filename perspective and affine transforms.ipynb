{
 "cells": [
  {
   "cell_type": "code",
   "execution_count": null,
   "metadata": {},
   "outputs": [],
   "source": [
    "\n",
    "# given 4 points, extracting the content within the\n",
    "# region is perspective transforms\n",
    "\n",
    "\n",
    "import cv2\n",
    "import numpy as np\n",
    "\n",
    "img = cv2.imread('./images/scan.jpg')\n",
    "\n",
    "cv2.imshow(\"original img\",img)\n",
    "cv2.waitKey(0)\n",
    "\n",
    "\n",
    "points_A = np.float32([\n",
    "    [320,15], [700,205], [85,610], [530,780]\n",
    "])\n",
    "\n",
    "points_B = np.float32([\n",
    "    [0,0], [420,0], [0,594], [420,594]\n",
    "])\n",
    "\n",
    "# transformation matrix\n",
    "\n",
    "M = cv2.getPerspectiveTransform(points_A, points_B)\n",
    "\n",
    "warped = cv2.warpPerspective(img, M, (420,594))\n",
    "\n",
    "cv2.imshow(\"Perspective transform\", warped)\n",
    "cv2.waitKey(0)\n",
    "\n",
    "cv2.destroyAllWindows()"
   ]
  },
  {
   "cell_type": "code",
   "execution_count": 1,
   "metadata": {},
   "outputs": [],
   "source": [
    "# affine transform\n",
    "\n",
    "# the difference is the image box lines are \n",
    "# parallel to each other\n",
    "\n",
    "import cv2\n",
    "import numpy as np\n",
    "import matplotlib.pyplot as plt\n",
    "\n",
    "\n",
    "img = cv2.imread('./images/ex2.jpg')\n",
    "rows, cols, h = img.shape\n",
    "\n",
    "\n",
    "cv2.imshow(\"Img\", img)\n",
    "cv2.waitKey(0)\n",
    "\n",
    "\n",
    "points_A = np.float32([\n",
    "    [320,15],[700,215], [85,610]\n",
    "])\n",
    "\n",
    "points_B = np.float32([\n",
    "    [0,0], [420,0], [0,594]\n",
    "])\n",
    "\n",
    "# transformation matrix\n",
    "\n",
    "M = cv2.getAffineTransform(points_A, points_B)\n",
    "\n",
    "warped = cv2.warpAffine(img,  M, (cols, rows))\n",
    "cv2.imshow(\"affine transform\",warped)\n",
    "cv2.waitKey(0)\n",
    "\n",
    "\n",
    "cv2.destroyAllWindows()"
   ]
  }
 ],
 "metadata": {
  "kernelspec": {
   "display_name": "Python 3",
   "language": "python",
   "name": "python3"
  },
  "language_info": {
   "codemirror_mode": {
    "name": "ipython",
    "version": 3
   },
   "file_extension": ".py",
   "mimetype": "text/x-python",
   "name": "python",
   "nbconvert_exporter": "python",
   "pygments_lexer": "ipython3",
   "version": "3.6.8"
  }
 },
 "nbformat": 4,
 "nbformat_minor": 2
}
