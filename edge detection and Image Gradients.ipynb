{
 "cells": [
  {
   "cell_type": "code",
   "execution_count": null,
   "metadata": {},
   "outputs": [],
   "source": [
    "# canny edge detection algorithm\n",
    "# best, low error rate, most widely used\n",
    "\n",
    "# applies gaussian blurring\n",
    "# finds intensity gradient\n",
    "# removes pixels that are not edges(non-maximum suppression)"
   ]
  },
  {
   "cell_type": "code",
   "execution_count": 3,
   "metadata": {},
   "outputs": [],
   "source": [
    "import cv2\n",
    "import numpy as np\n",
    "\n",
    "img = cv2.imread('./images/input.jpg',0) #grey scale img\n",
    "\n",
    "height, width = img.shape\n",
    "\n",
    "sobel_x = cv2.Sobel(img, cv2.CV_64F, 0, 1, ksize=5)\n",
    "sobel_y = cv2.Sobel(img, cv2.CV_64F, 1, 0, ksize=5)\n",
    "\n",
    "cv2.imshow('original', img)\n",
    "cv2.waitKey(0)\n",
    "\n",
    "cv2.imshow('sobel x', sobel_x)\n",
    "cv2.waitKey(0)\n",
    "\n",
    "cv2.imshow('sobel_y', sobel_y)\n",
    "cv2.waitKey(0)\n",
    "\n",
    "sobel_or = cv2.bitwise_or(sobel_x, sobel_y)\n",
    "cv2.imshow('sobel_or', sobel_or)\n",
    "\n",
    "laplacian = cv2.Laplacian(img, cv2.CV_64F)\n",
    "cv2.imshow('Laplacian',laplacian)\n",
    "cv2.waitKey(0)\n",
    "\n",
    "\n",
    "canny = cv2.Canny(img, 20, 170)\n",
    "cv2.imshow(\"canny img\", canny)\n",
    "cv2.waitKey(0)\n",
    "\n",
    "cv2.destroyAllWindows()"
   ]
  }
 ],
 "metadata": {
  "kernelspec": {
   "display_name": "Python 3",
   "language": "python",
   "name": "python3"
  },
  "language_info": {
   "codemirror_mode": {
    "name": "ipython",
    "version": 3
   },
   "file_extension": ".py",
   "mimetype": "text/x-python",
   "name": "python",
   "nbconvert_exporter": "python",
   "pygments_lexer": "ipython3",
   "version": "3.6.8"
  }
 },
 "nbformat": 4,
 "nbformat_minor": 2
}
