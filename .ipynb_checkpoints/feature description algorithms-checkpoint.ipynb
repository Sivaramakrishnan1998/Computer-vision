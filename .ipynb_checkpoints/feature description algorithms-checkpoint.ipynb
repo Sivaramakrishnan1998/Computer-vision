{
 "cells": [
  {
   "cell_type": "code",
   "execution_count": null,
   "metadata": {},
   "outputs": [],
   "source": [
    "# sift surf patented , but works on opencv version 2\n",
    "\n",
    "# SIFT\n",
    "\n",
    "import cv2\n",
    "import numpy as np\n",
    "\n",
    "img = cv2.imread('./images/input.jpg')\n",
    "gray = cv2.cvtColor(img, cv2.COLOR_BGR2GRAY)\n",
    "\n",
    "# creating detector\n",
    "sift = cv2.xfeatures2d.SIFT_create()\n",
    "\n",
    "#detecting key points\n",
    "keypoints = sift.detect(gray, None)\n",
    "\n",
    "img = cv2.drawKeypoints(img, keypoints, flags= cv2.DRAW_MATCHES_FLAGS_DRAW_RICH_KEYPOINTS)\n",
    "\n",
    "cv2.imshow('sift', img)\n",
    "cv2.waitKey(0)\n",
    "cv2.destroyAllWindows()"
   ]
  },
  {
   "cell_type": "code",
   "execution_count": null,
   "metadata": {},
   "outputs": [],
   "source": [
    "# surf\n",
    "# reduces noises better than sift\n",
    "import cv2\n",
    "import numpy as np\n",
    "\n",
    "img =cv2.imread('./images/input.jpg')\n",
    "gray = cv2.cvtColor(img, cv2.COLOR_BGR2GRAY)\n",
    "\n",
    "surf = cv2.SURF()\n",
    "\n",
    "surf.hessianThreshold  = 7500\n",
    "keypoints, descriptors = surf.detectAndCompute(gray, None)\n",
    "\n",
    "img = cv2.drawKeypoints(img, keypoints, flags=cv2.DRAW_MATCHES_FLAGS_DRAW_RICH_KEYPOINTS)\n",
    "\n",
    "cv2.imshow('surf', img)\n",
    "cv2.waitKey(0)\n",
    "cv2.destroyAllWindows()"
   ]
  },
  {
   "cell_type": "code",
   "execution_count": null,
   "metadata": {},
   "outputs": [],
   "source": [
    "# implementing FAST\n",
    "import cv2\n",
    "import numpy as np\n",
    "img = cv2.imread('./images/input.jpg')\n",
    "gray = cv2.cvtColor(img, cv2.COLOR_BGR2GRAY)\n",
    "\n",
    "fast = cv2.FastFeatureDetector_create()\n",
    "\n",
    "keypoints = fast.detect(gray, None)\n",
    "\n",
    "img = cv2.drawKeypoints(img, keypoints,  None,flags= cv2.DRAW_MATCHES_FLAGS_DRAW_RICH_KEYPOINTS)\n",
    "cv2.imshow('fast', img)\n",
    "cv2.waitKey(0)\n",
    "cv2.destroyAllWindows()\n"
   ]
  },
  {
   "cell_type": "code",
   "execution_count": null,
   "metadata": {},
   "outputs": [],
   "source": [
    "# implementing BRIEF\n",
    "\n",
    "import cv2\n",
    "import numpy as np\n",
    "img = cv2.imread('./images/input.jpg')\n",
    "gray = cv2.cvtColor(img, cv2.COLOR_BGR2GRAY)\n",
    "\n",
    "fast = cv2.FastFeatureDetector_create()\n",
    "brief = cv2.DescriptorExtractor_create(\"BRIEF\")\n",
    "\n",
    "\n",
    "keypoints = fast.detect(gray, None)\n",
    "\n",
    "#saving descriptors \n",
    "keypoints, descriptors = brief.compute(gray, keypoints)\n",
    "\n",
    "\n",
    "img = cv2.drawKeypoints(img, keypoints,  None,flags= cv2.DRAW_MATCHES_FLAGS_DRAW_RICH_KEYPOINTS)\n",
    "cv2.imshow('fast', img)\n",
    "cv2.waitKey(0)\n",
    "cv2.destroyAllWindows()\n"
   ]
  },
  {
   "cell_type": "code",
   "execution_count": null,
   "metadata": {},
   "outputs": [],
   "source": [
    "# oriented fast and rotating brief\n",
    "\n",
    "\n",
    "import cv2\n",
    "import numpy as np\n",
    "img = cv2.imread('./images/input.jpg')\n",
    "gray = cv2.cvtColor(img, cv2.COLOR_BGR2GRAY)\n",
    "\n",
    "orb = cv2.ORB_create(5000)\n",
    "keypoints = orb.detect(gray, None)\n",
    "\n",
    "img = cv2.drawKeypoints(img, keypoints,  None,flags= cv2.DRAW_MATCHES_FLAGS_DRAW_RICH_KEYPOINTS)\n",
    "cv2.imshow('orb', img)\n",
    "cv2.waitKey(0)\n",
    "cv2.destroyAllWindows()\n"
   ]
  }
 ],
 "metadata": {
  "kernelspec": {
   "display_name": "Python 3",
   "language": "python",
   "name": "python3"
  },
  "language_info": {
   "codemirror_mode": {
    "name": "ipython",
    "version": 3
   },
   "file_extension": ".py",
   "mimetype": "text/x-python",
   "name": "python",
   "nbconvert_exporter": "python",
   "pygments_lexer": "ipython3",
   "version": "3.6.8"
  }
 },
 "nbformat": 4,
 "nbformat_minor": 2
}
