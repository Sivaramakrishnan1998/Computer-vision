{
 "cells": [
  {
   "cell_type": "code",
   "execution_count": null,
   "metadata": {},
   "outputs": [],
   "source": [
    "# Basics of Image Manipulation that is altering, resizing, reshaping images and pyramid method\n",
    "\n",
    "%reload_ext autoreload\n",
    "%autoreload 2\n",
    "\n",
    "import cv2\n",
    "import numpy as np\n"
   ]
  },
  {
   "cell_type": "code",
   "execution_count": null,
   "metadata": {},
   "outputs": [],
   "source": [
    "# loading image\n",
    "img = cv2.imread('./images/input.jpg')\n",
    "cv2.imshow(\"img\",img)\n",
    "cv2.waitKey(0)\n",
    "cv2.destroyAllWindows()"
   ]
  },
  {
   "cell_type": "code",
   "execution_count": null,
   "metadata": {},
   "outputs": [],
   "source": [
    "#translation\n",
    "\n",
    "# T = [[1, 0, tx],[1, 0, ty]]\n",
    "\n",
    "img = cv2.imread('./images/input.jpg')\n",
    "\n",
    "\n",
    "#finding height and width\n",
    "height, width = img.shape[:2]\n",
    "\n",
    "#for x,y shift values tx, ty\n",
    "quarter_height, quarter_width = height/4, width/4\n",
    "\n",
    "#building translation matrix\n",
    "T = np.float64([\n",
    "                [1, 0, quarter_width],\n",
    "                [0, 1, quarter_height]\n",
    "])\n",
    "\n",
    "print (T)\n",
    "\n",
    "#translating image\n",
    "translated_img = cv2.warpAffine(img, T, (width, height))\n",
    "\n",
    "cv2.imshow('translation', translated_img)\n",
    "cv2.waitKey(0)\n",
    "cv2.destroyAllWindows()\n",
    "\n"
   ]
  },
  {
   "cell_type": "code",
   "execution_count": null,
   "metadata": {},
   "outputs": [],
   "source": [
    "#rotation\n",
    "\n",
    "#T = [ \n",
    "#     [cos t , -sin t],\n",
    "#     [sin t , cos t]\n",
    "# ]\n",
    "\n",
    "import numpy as np\n",
    "import cv2\n",
    "\n",
    "img = cv2.imread('./images/input.jpg')\n",
    "\n",
    "height, width = img.shape[:2]\n",
    "\n",
    "rotation_matrix= cv2.getRotationMatrix2D((width/2, height/2), 90, .8)# func(width, height, \n",
    "# rotation angle, scaling(spaces on the edges))\n",
    "\n",
    "rotated_image= cv2.warpAffine(img, rotation_matrix, (width, height))\n",
    "\n",
    "cv2.imshow('rotated img', rotated_image)\n",
    "cv2.waitKey(0)\n",
    "cv2.destroyAllWindows()f\n",
    "\n",
    "\n",
    "\n"
   ]
  },
  {
   "cell_type": "code",
   "execution_count": null,
   "metadata": {},
   "outputs": [],
   "source": [
    "# resizing img's\n",
    "\n",
    "#cv2.resize(img, output img size, x axis scale, y axis scale, interpolation)\n",
    "\n",
    "import cv2\n",
    "import numpy as np\n",
    "\n",
    "img = cv2.imread('./images/input.jpg')\n",
    "\n",
    "img_rescaled = cv2.resize(img, None, fx= 0.75, fy= 0.76)\n",
    "\n",
    "cv2.imshow(\"rescaled image linear interpolation\",img_rescaled)\n",
    "cv2.waitKey(0)\n",
    "\n",
    "\n",
    "cv2.imshow(\"rescaled image cubic interpolation\",cv2.resize(img, None, fx= 0.7, fy= 0.8, interpolation = cv2.INTER_CUBIC))\n",
    "cv2.waitKey(0)\n",
    "\n",
    "cv2.destroyAllWindows()\n",
    "\n",
    "        \n",
    "\n"
   ]
  },
  {
   "cell_type": "code",
   "execution_count": null,
   "metadata": {},
   "outputs": [],
   "source": [
    "# image pyramids\n",
    "\n",
    "import cv2\n",
    "import numpy as np\n",
    "\n",
    "img = cv2.imread('./images/input.jpg')\n",
    "\n",
    "sml = cv2.pyrDown(img)#shrinking  50%\n",
    "lrg = cv2.pyrUp(sml)#enlarging    2x\n",
    "\n",
    "cv2.imshow(\"img\", img)\n",
    "cv2.imshow(\"shrinked img\", sml)\n",
    "cv2.imshow(\"enlarged img\", lrg)\n",
    "\n",
    "cv2.waitKey(0)\n",
    "cv2.destroyAllWindows()\n"
   ]
  },
  {
   "cell_type": "code",
   "execution_count": null,
   "metadata": {},
   "outputs": [],
   "source": [
    "#cropping image\n",
    "\n",
    "import cv2\n",
    "import numpy as np\n",
    "\n",
    "img = cv2.imread('./images/input.jpg')\n",
    "\n",
    "height, width = img.shape[:2]\n",
    "\n",
    "row_start, col_start= int(height*.25), int(width*.25)\n",
    "row_end, col_end= int(height*.5), int(width*.5)\n",
    "\n",
    "cropped_img= img[row_start:row_end, col_start:col_end]\n",
    "\n",
    "cv2.imshow(\"cropped image\", cropped_img)\n",
    "cv2.waitKey(0)\n",
    "cv2.destroyAllWindows()"
   ]
  }
 ],
 "metadata": {
  "kernelspec": {
   "display_name": "Python 3",
   "language": "python",
   "name": "python3"
  }
 },
 "nbformat": 4,
 "nbformat_minor": 2
}
