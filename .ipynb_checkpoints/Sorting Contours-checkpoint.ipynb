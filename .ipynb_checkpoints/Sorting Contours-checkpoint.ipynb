{
 "cells": [
  {
   "cell_type": "code",
   "execution_count": 1,
   "metadata": {
    "scrolled": false
   },
   "outputs": [
    {
     "name": "stdout",
     "output_type": "stream",
     "text": [
      "num of contours 4\n"
     ]
    }
   ],
   "source": [
    "# sorting contours can be done in 2 ways\n",
    "# by area\n",
    "# by spatial position\n",
    "\n",
    "import cv2\n",
    "import numpy as np\n",
    "\n",
    "img = cv2.imread('./images/bunchofshapes.jpg')\n",
    "cv2.imshow('org-img', img)\n",
    "cv2.waitKey(0)\n",
    "\n",
    "black_img = np.zeros((img.shape[0], img.shape[1], 3))\n",
    "\n",
    "org_img = img\n",
    "\n",
    "gray = cv2.cvtColor(img, cv2.COLOR_BGR2GRAY)\n",
    "\n",
    "# to find canny edges\n",
    "edged = cv2.Canny(gray, 50, 200)\n",
    "cv2.imshow('canny imgs', edged)\n",
    "cv2.waitKey(0)\n",
    "\n",
    "#find contours and print how many were found\n",
    "\n",
    "im2, contours, hierarchy = cv2.findContours(edged.copy(),\n",
    "                                      cv2.RETR_EXTERNAL,cv2.CHAIN_APPROX_NONE)\n",
    "\n",
    "print (\"num of contours\", len(contours))\n",
    "\n",
    "# draw contours over black image\n",
    "cv2.drawContours(black_img, contours, -1, (0,255,0), 3)\n",
    "cv2.imshow(\"blck img\", black_img)\n",
    "cv2.waitKey(0)\n",
    "\n",
    "cv2.drawContours(img, contours, -1, (0,255,0), 3)\n",
    "cv2.imshow(\"All contours\", img)\n",
    "cv2.waitKey(0)\n",
    "\n",
    "cv2.destroyAllWindows()\n"
   ]
  },
  {
   "cell_type": "code",
   "execution_count": 2,
   "metadata": {},
   "outputs": [
    {
     "name": "stdout",
     "output_type": "stream",
     "text": [
      "contour areas before sorting [20587.5, 22901.5, 66579.5, 90222.0]\n",
      "After sorting contours [90222.0, 66579.5, 22901.5, 20587.5]\n"
     ]
    }
   ],
   "source": [
    "# sorting contours based on area\n",
    "\n",
    "import cv2\n",
    "import numpy as np\n",
    "\n",
    "def get_contour_areas(contours):\n",
    "    all_areas = []\n",
    "    \n",
    "    for cnt in contours:\n",
    "        area = cv2.contourArea(cnt)\n",
    "        all_areas.append(area)\n",
    "#     print (all_areas)\n",
    "    return all_areas\n",
    "    \n",
    "    \n",
    "img = cv2.imread('./images/bunchofshapes.jpg')\n",
    "org_img_1 = img\n",
    "\n",
    "print (\"contour areas before sorting\", get_contour_areas(contours))\n",
    "\n",
    "cv2.imshow(\"contours\", org_img)\n",
    "cv2.waitKey(0)\n",
    "\n",
    "# sorting contours \n",
    "\n",
    "sorted_contours = sorted(contours, key = cv2.contourArea, reverse=True)\n",
    "\n",
    "print (\"After sorting contours\", get_contour_areas(sorted_contours))\n",
    "\n",
    "\n",
    "# Iterate over contours and draw one at a time\n",
    "\n",
    "\n",
    "for cnt in sorted_contours:\n",
    "    \n",
    "    cv2.drawContours(org_img_1, cnt, -1, (255,0,0), 3)    \n",
    "    cv2.imshow(\"sorted contours\", org_img_1)\n",
    "    cv2.waitKey(0)\n",
    "    \n",
    "\n",
    "cv2.destroyAllWindows()\n",
    "    \n"
   ]
  },
  {
   "cell_type": "code",
   "execution_count": 4,
   "metadata": {},
   "outputs": [
    {
     "name": "stdout",
     "output_type": "stream",
     "text": [
      "cx,cy280399\n",
      "output image number1.jpg\n",
      "cx,cy593474\n",
      "output image number2.jpg\n",
      "cx,cy886442\n",
      "output image number3.jpg\n",
      "cx,cy1277403\n",
      "output image number4.jpg\n"
     ]
    }
   ],
   "source": [
    "# sorting by position\n",
    "import cv2\n",
    "import numpy as np\n",
    "\n",
    "def x_cord_contours(contours):\n",
    "    if cv2.contourArea(contours) > 10:\n",
    "        M = cv2.moments(contours)\n",
    "#         cv2.moments() returns the center point of contour\n",
    "        return (int(M['m10']/M['m00']))\n",
    "\n",
    "def label_contour_center(img, c):\n",
    "    M = cv2.moments(c)\n",
    "    cx = int (M['m10']/ M['m00'])\n",
    "    cy = int (M['m01']/ M['m00'])\n",
    "    \n",
    "    # to draw contour number on image\n",
    "    \n",
    "    cv2.circle(img, (cx, cy), 10, (0,0,255), -1)\n",
    "    return img\n",
    "\n",
    "# Load our image\n",
    "img = cv2.imread('./images/bunchofshapes.jpg')\n",
    "org_img = img.copy()\n",
    "\n",
    "#computer center of mass, draw on image\n",
    "\n",
    "for (i,c) in enumerate(contours):\n",
    "    orig = label_contour_center(img, c)\n",
    "\n",
    "cv2.imshow(\"4-contour-centers\", img)\n",
    "cv2.waitKey(0)\n",
    "\n",
    "contours_left_to_right = sorted(contours, key= x_cord_contours, reverse = False)\n",
    "\n",
    "\n",
    "# labeling Contours left to right\n",
    "\n",
    "\n",
    "for (i, c) in enumerate(contours_left_to_right):\n",
    "    cv2.drawContours(org_img, c, -1, (0, 0, 255), 3)\n",
    "    M = cv2.moments(c)\n",
    "    cx = int(M['m10']/ M['m00'])\n",
    "    cy = int(M['m01']/ M['m00'])\n",
    "    \n",
    "    print (\"cx,cy\"+ str(cx) +''+str(cy))\n",
    "    cv2.putText(org_img, str(i+1), (cx, cy), cv2.FONT_HERSHEY_COMPLEX, 1, (0, 255, 0), 2)\n",
    "    cv2.imshow('left to right corner', org_img)\n",
    "    cv2.waitKey(0)\n",
    "    (x, y, w, h)= cv2.boundingRect(c)\n",
    "    \n",
    "    # cropping the contours and saving the images\n",
    "    cropped_contour = org_img[y:y+h, x:x+w]\n",
    "    img_name = \"output image number\" + str(i+1) + \".jpg\"\n",
    "    print (img_name)\n",
    "    cv2.imwrite(img_name, cropped_contour)\n",
    "    \n",
    "\n",
    "\n",
    "\n",
    "\n",
    "cv2.destroyAllWindows()\n"
   ]
  },
  {
   "cell_type": "code",
   "execution_count": null,
   "metadata": {},
   "outputs": [],
   "source": [
    "\n",
    "\n",
    "\n",
    "\n",
    "\n",
    "\n",
    "\n",
    "\n",
    "\n",
    "\n"
   ]
  }
 ],
 "metadata": {
  "kernelspec": {
   "display_name": "Python 3",
   "language": "python",
   "name": "python3"
  },
  "language_info": {
   "codemirror_mode": {
    "name": "ipython",
    "version": 3
   },
   "file_extension": ".py",
   "mimetype": "text/x-python",
   "name": "python",
   "nbconvert_exporter": "python",
   "pygments_lexer": "ipython3",
   "version": "3.6.8"
  }
 },
 "nbformat": 4,
 "nbformat_minor": 2
}
