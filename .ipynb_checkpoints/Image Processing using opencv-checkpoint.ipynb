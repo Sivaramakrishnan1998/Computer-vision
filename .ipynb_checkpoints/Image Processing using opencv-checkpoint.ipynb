{
 "cells": [
  {
   "cell_type": "code",
   "execution_count": 1,
   "metadata": {},
   "outputs": [
    {
     "name": "stdout",
     "output_type": "stream",
     "text": [
      "13 19 32\n",
      "(830, 1245)\n",
      "21\n"
     ]
    }
   ],
   "source": [
    "import cv2\n",
    "image = cv2.imread('./images/input.jpg')\n",
    "\n",
    "B, G, R = image[10,50]\n",
    "\n",
    "print (B,G,R)\n",
    "\n",
    "gray_img = cv2.cvtColor(image, cv2.COLOR_BGR2GRAY)\n",
    "\n",
    "print (gray_img.shape)\n",
    "\n",
    "print (gray_img[0,0])"
   ]
  },
  {
   "cell_type": "code",
   "execution_count": null,
   "metadata": {},
   "outputs": [],
   "source": [
    "import cv2\n",
    "\n",
    "image = cv2.imread('./images/input.jpg')\n",
    "\n",
    "hsv_img = cv2.cvtColor(image, cv2.COLOR_BGR2HSV)\n",
    "\n",
    "cv2.imshow(\"hsv_image\",hsv_img)\n",
    "cv2.imshow(\"hue\", hsv_img[:,:,0])\n",
    "cv2.imshow(\"saturation\",hsv_img[:,:,1])\n",
    "cv2.imshow(\"val\",hsv_img[:,:,2])\n",
    "cv2.waitKey()\n",
    "cv2.destroyAllWindows()"
   ]
  },
  {
   "cell_type": "code",
   "execution_count": null,
   "metadata": {},
   "outputs": [],
   "source": [
    "\n",
    "import cv2\n",
    "\n",
    "img = cv2.imread('./images/input.jpg')\n",
    "\n",
    "B, G, R = cv2.split(img)\n",
    "\n",
    "print (B.shape, G.shape, R.shape)\n",
    "cv2.imshow(\"img\",img)\n",
    "cv2.imshow(\"Red\",R)\n",
    "cv2.imshow(\"Green\", G)\n",
    "cv2.imshow(\"Blue\", B)\n",
    "\n",
    "\n",
    "#let us remake the original image\n",
    "\n",
    "merged = cv2.merge([B, G, R])\n",
    "\n",
    "cv2.imshow(\"merged\", merged)\n",
    "\n",
    "#let us amplify the blue color\n",
    "\n",
    "blue = cv2.merge([B+100, G, R])\n",
    "\n",
    "cv2.waitKey()\n",
    "cv2.destroyAllWindows()"
   ]
  },
  {
   "cell_type": "code",
   "execution_count": null,
   "metadata": {},
   "outputs": [],
   "source": [
    "# let us see only through R or G or B\n",
    "\n",
    "import numpy as np\n",
    "import cv2\n",
    "\n",
    "img = cv2.imread('./images/input.jpg')\n",
    "\n",
    "B, G, R = cv2.split(img)\n",
    "\n",
    "zeros = np.zeros(img.shape[::-2], dtype=\"uint8\")\n",
    "\n",
    "cv2.imshow(\"Red\", cv2.merge([zeros,zeros,R]))\n",
    "\n",
    "cv2.waitKey()\n",
    "cv2.destroyAllWindows()"
   ]
  },
  {
   "cell_type": "code",
   "execution_count": null,
   "metadata": {},
   "outputs": [],
   "source": []
  },
  {
   "cell_type": "code",
   "execution_count": null,
   "metadata": {},
   "outputs": [],
   "source": []
  },
  {
   "cell_type": "code",
   "execution_count": null,
   "metadata": {},
   "outputs": [],
   "source": []
  }
 ],
 "metadata": {
  "kernelspec": {
   "display_name": "Python 3",
   "language": "python",
   "name": "python3"
  },
  "language_info": {
   "codemirror_mode": {
    "name": "ipython",
    "version": 3
   },
   "file_extension": ".py",
   "mimetype": "text/x-python",
   "name": "python",
   "nbconvert_exporter": "python",
   "pygments_lexer": "ipython3",
   "version": "3.6.8"
  }
 },
 "nbformat": 4,
 "nbformat_minor": 2
}
