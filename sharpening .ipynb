{
 "cells": [
  {
   "cell_type": "code",
   "execution_count": null,
   "metadata": {},
   "outputs": [],
   "source": [
    "# sharpening is opposite of blurring\n",
    "\n",
    "#normalised means it is sum to one \n",
    "\n",
    "import cv2\n",
    "import numpy as np\n",
    "\n",
    "img = cv2.imread('./images/elephant.jpg')\n",
    "\n",
    "kernel_sharpening = np.array([\n",
    "    [-1,-1,-1],\n",
    "    [-1,9,-1],\n",
    "    [-1,-1,-1]\n",
    "])\n",
    "\n",
    "sharpened = cv2.filter2D(img, -1, kernel_sharpening)\n",
    "\n",
    "cv2.imshow(\"Sharpened Image\", sharpened)\n",
    "cv2.waitKey(0)\n",
    "cv2.destroyAllWindows()\n",
    "\n"
   ]
  },
  {
   "cell_type": "code",
   "execution_count": null,
   "metadata": {},
   "outputs": [],
   "source": []
  }
 ],
 "metadata": {
  "kernelspec": {
   "display_name": "Python 3",
   "language": "python",
   "name": "python3"
  },
  "language_info": {
   "codemirror_mode": {
    "name": "ipython",
    "version": 3
   },
   "file_extension": ".py",
   "mimetype": "text/x-python",
   "name": "python",
   "nbconvert_exporter": "python",
   "pygments_lexer": "ipython3",
   "version": "3.6.8"
  }
 },
 "nbformat": 4,
 "nbformat_minor": 2
}
